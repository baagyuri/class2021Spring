{
  "nbformat": 4,
  "nbformat_minor": 0,
  "metadata": {
    "colab": {
      "name": "programming.ipynb",
      "provenance": [],
      "authorship_tag": "ABX9TyNONfDr/F4tUULKGs8QwM7s",
      "include_colab_link": true
    },
    "kernelspec": {
      "name": "python3",
      "display_name": "Python 3"
    }
  },
  "cells": [
    {
      "cell_type": "markdown",
      "metadata": {
        "id": "view-in-github",
        "colab_type": "text"
      },
      "source": [
        "<a href=\"https://colab.research.google.com/github/baagyuri/class2021Spring/blob/main/programming.ipynb\" target=\"_parent\"><img src=\"https://colab.research.google.com/assets/colab-badge.svg\" alt=\"Open In Colab\"/></a>"
      ]
    },
    {
      "cell_type": "code",
      "metadata": {
        "id": "hh-JBCSCcRju"
      },
      "source": [
        ""
      ],
      "execution_count": null,
      "outputs": []
    },
    {
      "cell_type": "markdown",
      "metadata": {
        "id": "XP7o6NGxo5iL"
      },
      "source": [
        "# Programming Language (변수, 제어문, 함수)\r\n",
        "\r\n",
        "*   a = 1 -> computer language\r\n",
        "\r\n",
        "a 는 **변수 / variable ** 이라고 부른다.\r\n",
        "= 오른쪽 내용은 왼쪽이 assign.\r\n",
        "\r\n",
        "ex ) a = 1\r\n",
        "     b = 'love' \r\n",
        "\r\n",
        "a = 변수, b = 내용\r\n",
        "\r\n",
        "\r\n",
        "***문법 = 제어문***\r\n",
        "\r\n",
        "1.   반복 : for \r\n",
        "2.   조건 : if \r\n",
        "\r\n",
        "**함수**\r\n",
        "\r\n",
        "*   함 = box 일본말\r\n",
        "*   input -> function -> output\r\n",
        "\r\n",
        "ex) 인간의 몸 (감각, 음식물, 소리, 등)\r\n",
        "\r\n",
        "**합수 만드는 방법**\r\n",
        "\r\n",
        "*   Function add (a+b) input\r\n",
        "            c = a + b\r\n",
        "        c (output)\r\n",
        "*   add(a,b)\r\n",
        "\r\n",
        "\r\n",
        "\r\n",
        "\r\n",
        "\r\n",
        "\r\n",
        "\r\n",
        "\r\n",
        "\r\n",
        "\r\n",
        "\r\n",
        "\r\n"
      ]
    }
  ]
}