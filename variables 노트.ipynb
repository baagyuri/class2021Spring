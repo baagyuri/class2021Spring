{
  "nbformat": 4,
  "nbformat_minor": 0,
  "metadata": {
    "kernelspec": {
      "display_name": "Python 3",
      "language": "python",
      "name": "python3"
    },
    "language_info": {
      "codemirror_mode": {
        "name": "ipython",
        "version": 3
      },
      "file_extension": ".py",
      "mimetype": "text/x-python",
      "name": "python",
      "nbconvert_exporter": "python",
      "pygments_lexer": "ipython3",
      "version": "3.7.1"
    },
    "colab": {
      "name": "variables.ipynb의 사본",
      "provenance": [],
      "include_colab_link": true
    }
  },
  "cells": [
    {
      "cell_type": "markdown",
      "metadata": {
        "id": "view-in-github",
        "colab_type": "text"
      },
      "source": [
        "<a href=\"https://colab.research.google.com/github/baagyuri/class2021Spring/blob/main/variables%20%EB%85%B8%ED%8A%B8.ipynb\" target=\"_parent\"><img src=\"https://colab.research.google.com/assets/colab-badge.svg\" alt=\"Open In Colab\"/></a>"
      ]
    },
    {
      "cell_type": "code",
      "metadata": {
        "id": "goAyoU7vRheI",
        "outputId": "c32cc600-3c42-4dc2-b77d-84782e8fe65a"
      },
      "source": [
        "a = 1; print(type(a))"
      ],
      "execution_count": null,
      "outputs": [
        {
          "output_type": "stream",
          "text": [
            "<class 'int'>\n"
          ],
          "name": "stdout"
        }
      ]
    },
    {
      "cell_type": "markdown",
      "metadata": {
        "id": "jenknXE1oG2e"
      },
      "source": [
        "소수점 = class: float\r\n",
        "\r\n",
        "whole number = class: integer / 'int'\r\n",
        "\r\n",
        "숫자여러개 = class : string / 'str'\r\n",
        "\r\n",
        "every number starts with \"0\" so, 0, 1, 2, 3, 4, ...so on."
      ]
    },
    {
      "cell_type": "code",
      "metadata": {
        "id": "txxnoqJuRheJ",
        "outputId": "713e5491-c822-43d7-ec7b-a00348e02708"
      },
      "source": [
        "a = 1; a = float(a); print(type(a))"
      ],
      "execution_count": null,
      "outputs": [
        {
          "output_type": "stream",
          "text": [
            "<class 'float'>\n"
          ],
          "name": "stdout"
        }
      ]
    },
    {
      "cell_type": "code",
      "metadata": {
        "id": "By9UCBctRheK",
        "outputId": "b0e2dc33-a3e3-4801-ffe4-b69ac0c74b13"
      },
      "source": [
        "a = 1.2; a = int(a); print(type(a))"
      ],
      "execution_count": null,
      "outputs": [
        {
          "output_type": "stream",
          "text": [
            "<class 'int'>\n"
          ],
          "name": "stdout"
        }
      ]
    },
    {
      "cell_type": "code",
      "metadata": {
        "id": "SyP0PB86RheL",
        "colab": {
          "base_uri": "https://localhost:8080/"
        },
        "outputId": "4d09ef8c-e261-4678-c98a-2d9c4bd37c21"
      },
      "source": [
        "a = '123';\r\n",
        "print(type(a));\r\n",
        "print(a[2])"
      ],
      "execution_count": null,
      "outputs": [
        {
          "output_type": "stream",
          "text": [
            "<class 'str'>\n",
            "3\n"
          ],
          "name": "stdout"
        }
      ]
    },
    {
      "cell_type": "code",
      "metadata": {
        "id": "byDy9oFERheL",
        "outputId": "bfc3fed4-2c45-4830-a723-0981b1b02914"
      },
      "source": [
        "a = '123'; a = list(a); print(type(a)); print(a); print(a[2])"
      ],
      "execution_count": null,
      "outputs": [
        {
          "output_type": "stream",
          "text": [
            "<class 'list'>\n",
            "['1', '2', '3']\n",
            "3\n"
          ],
          "name": "stdout"
        }
      ]
    },
    {
      "cell_type": "markdown",
      "metadata": {
        "id": "rQHs1T9HpWjf"
      },
      "source": [
        "ex)\r\n",
        "\r\n",
        "a = '123';\r\n",
        "\r\n",
        "a = list(a)\r\n",
        "\r\n",
        "pint(a)\r\n",
        "\r\n",
        "['1','2','3']\r\n",
        "\r\n",
        "list 할때 다른 종류 타입이 들어와도 상관없음. 어떤 형태든 가능하다.\r\n",
        "\r\n",
        "ex) a = [1,'cde',[1,3]]\r\n",
        "\r\n",
        "list안에 list가 있는것.\r\n",
        "\r\n",
        "list, tuple 거의 똑같음. but only one difference.\r\n",
        "\r\n",
        "ex) list\r\n",
        "\r\n",
        "a = [1,2,3]\r\n",
        "\r\n",
        "a[0] = -1 -> 첫번째 '1'을 '-1'로 바꾸라는 뜻\r\n",
        "\r\n",
        "a\r\n",
        "\r\n",
        "[-1,2,3]\r\n",
        "\r\n",
        "하지만, tuple을 같은 방식으로 바꾸려고하면 error가 뜸.\r\n",
        "\r\n",
        "a = (1,2,3)\r\n",
        "\r\n",
        "a[0] = -1\r\n",
        "\r\n",
        "-> error 그래서 tuple이 조금 더 안전하지만 쓰지 않는듯함."
      ]
    },
    {
      "cell_type": "code",
      "metadata": {
        "id": "DfS-gknCRheL",
        "outputId": "0cf2a3dd-678f-47ab-b4d6-c62e43e428e5"
      },
      "source": [
        "a = [1,'2', [3, '4']]; print(type(a)); print(a[0]); print(a[1]); print(a[2])"
      ],
      "execution_count": null,
      "outputs": [
        {
          "output_type": "stream",
          "text": [
            "<class 'list'>\n",
            "1\n",
            "2\n",
            "[3, '4']\n"
          ],
          "name": "stdout"
        }
      ]
    },
    {
      "cell_type": "code",
      "metadata": {
        "id": "2qQfOo6Lpm8J"
      },
      "source": [
        ""
      ],
      "execution_count": null,
      "outputs": []
    },
    {
      "cell_type": "code",
      "metadata": {
        "id": "wuUZdEnyRheM",
        "colab": {
          "base_uri": "https://localhost:8080/"
        },
        "outputId": "f0720da0-849b-4774-e991-bd8648865d60"
      },
      "source": [
        "a = (1,'2', [3, '4']);\r\n",
        "a"
      ],
      "execution_count": null,
      "outputs": [
        {
          "output_type": "execute_result",
          "data": {
            "text/plain": [
              "(1, '2', [3, '4'])"
            ]
          },
          "metadata": {
            "tags": []
          },
          "execution_count": 4
        }
      ]
    },
    {
      "cell_type": "code",
      "metadata": {
        "id": "2sivfloGRheM",
        "outputId": "5c768bb7-e02b-4c87-a76e-3e992cdb244e"
      },
      "source": [
        "a =\t{\"a\": \"apple\", \"b\": \"orange\", \"c\": 2014}\n",
        "print(type(a))\n",
        "print(a[\"a\"])"
      ],
      "execution_count": null,
      "outputs": [
        {
          "output_type": "stream",
          "text": [
            "<class 'dict'>\n",
            "apple\n"
          ],
          "name": "stdout"
        }
      ]
    },
    {
      "cell_type": "markdown",
      "metadata": {
        "id": "0a2euCFJrXUE"
      },
      "source": [
        "dict or dictoniary \r\n",
        "\r\n",
        "순서가 없다 그래서 숫자로 부를 수 없다."
      ]
    },
    {
      "cell_type": "code",
      "metadata": {
        "id": "A7teRXuCRheN",
        "outputId": "79a99306-d858-4682-a61e-a21c74bd903d"
      },
      "source": [
        "a=[(1,2,3), (3,8,0)]\n",
        "print(type(a))\n",
        "a"
      ],
      "execution_count": null,
      "outputs": [
        {
          "output_type": "stream",
          "text": [
            "<class 'list'>\n"
          ],
          "name": "stdout"
        },
        {
          "output_type": "execute_result",
          "data": {
            "text/plain": [
              "[(1, 2, 3), (3, 8, 0)]"
            ]
          },
          "metadata": {
            "tags": []
          },
          "execution_count": 27
        }
      ]
    }
  ]
}