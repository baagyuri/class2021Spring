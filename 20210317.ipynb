{
  "nbformat": 4,
  "nbformat_minor": 0,
  "metadata": {
    "colab": {
      "name": "20210317.ipynb",
      "provenance": [],
      "authorship_tag": "ABX9TyME1svprJxVasjhzyl6tcI4",
      "include_colab_link": true
    },
    "kernelspec": {
      "name": "python3",
      "display_name": "Python 3"
    }
  },
  "cells": [
    {
      "cell_type": "markdown",
      "metadata": {
        "id": "view-in-github",
        "colab_type": "text"
      },
      "source": [
        "<a href=\"https://colab.research.google.com/github/baagyuri/class2021Spring/blob/main/20210317.ipynb\" target=\"_parent\"><img src=\"https://colab.research.google.com/assets/colab-badge.svg\" alt=\"Open In Colab\"/></a>"
      ]
    },
    {
      "cell_type": "code",
      "metadata": {
        "colab": {
          "base_uri": "https://localhost:8080/"
        },
        "id": "3cdu6P-sudAY",
        "outputId": "7292f7a8-8937-46cd-9797-3aaadb5d32af"
      },
      "source": [
        "for i in range(1,5):\r\n",
        "  for k in range(6,10):\r\n",
        "    if k>=5:\r\n",
        "      print(i*k)"
      ],
      "execution_count": 1,
      "outputs": [
        {
          "output_type": "stream",
          "text": [
            "6\n",
            "7\n",
            "8\n",
            "9\n",
            "12\n",
            "14\n",
            "16\n",
            "18\n",
            "18\n",
            "21\n",
            "24\n",
            "27\n",
            "24\n",
            "28\n",
            "32\n",
            "36\n"
          ],
          "name": "stdout"
        }
      ]
    },
    {
      "cell_type": "code",
      "metadata": {
        "colab": {
          "base_uri": "https://localhost:8080/"
        },
        "id": "r-BfibEXudli",
        "outputId": "9d95af55-84d7-4a76-94e3-90c53312213b"
      },
      "source": [
        "a=[10,11,12,13,14,15]\r\n",
        "b=[i for i in a if i >=13]\r\n",
        "b"
      ],
      "execution_count": 3,
      "outputs": [
        {
          "output_type": "execute_result",
          "data": {
            "text/plain": [
              "[13, 14, 15]"
            ]
          },
          "metadata": {
            "tags": []
          },
          "execution_count": 3
        }
      ]
    },
    {
      "cell_type": "code",
      "metadata": {
        "colab": {
          "base_uri": "https://localhost:8080/"
        },
        "id": "ob_W6N8uvegZ",
        "outputId": "4c23b351-109d-4958-a287-0823080ed6a3"
      },
      "source": [
        "a=['English','Korean','Indonesian','Russian','German']\r\n",
        "b=[i for i in a if len(i)>=7]\r\n",
        "b"
      ],
      "execution_count": 6,
      "outputs": [
        {
          "output_type": "execute_result",
          "data": {
            "text/plain": [
              "['English', 'Indonesian', 'Russian']"
            ]
          },
          "metadata": {
            "tags": []
          },
          "execution_count": 6
        }
      ]
    }
  ]
}