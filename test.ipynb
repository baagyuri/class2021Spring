{
  "nbformat": 4,
  "nbformat_minor": 0,
  "metadata": {
    "colab": {
      "name": "test.ipynb",
      "provenance": [],
      "authorship_tag": "ABX9TyPrg6FLYH8uxXjxI3TTctvb",
      "include_colab_link": true
    },
    "kernelspec": {
      "name": "python3",
      "display_name": "Python 3"
    }
  },
  "cells": [
    {
      "cell_type": "markdown",
      "metadata": {
        "id": "view-in-github",
        "colab_type": "text"
      },
      "source": [
        "<a href=\"https://colab.research.google.com/github/baagyuri/class2021Spring/blob/main/test.ipynb\" target=\"_parent\"><img src=\"https://colab.research.google.com/assets/colab-badge.svg\" alt=\"Open In Colab\"/></a>"
      ]
    },
    {
      "cell_type": "code",
      "metadata": {
        "id": "K39rCm4NT4gG"
      },
      "source": [
        "1 a"
      ],
      "execution_count": null,
      "outputs": []
    },
    {
      "cell_type": "markdown",
      "metadata": {
        "id": "ZSUIrXsFWn5S"
      },
      "source": [
        "# 오늘 배운것:\r\n",
        "\r\n",
        "\r\n",
        "*   Github 계정 만들고 Respositories - class2021Spring 만들기\r\n",
        "*   Colab 에서 노트 적는 법 / 코딩 (한 줄을 - 셀 이라고 부른다)\r\n",
        "\r\n",
        "- Colab 에서 코딩과 필기를 한번에 할 수 있고, 이걸 주피터 노트북이라고 부른다.\r\n"
      ]
    }
  ]
}